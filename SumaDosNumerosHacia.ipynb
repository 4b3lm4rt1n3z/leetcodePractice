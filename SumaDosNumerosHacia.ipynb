{
 "cells": [
  {
   "cell_type": "code",
   "execution_count": 5,
   "metadata": {},
   "outputs": [
    {
     "data": {
      "text/plain": [
       "[20, 30, 40, 20, 30, 40, 20, 30, 40]"
      ]
     },
     "execution_count": 5,
     "metadata": {},
     "output_type": "execute_result"
    }
   ],
   "source": [
    "lista = [10,20,30,40]\n",
    "cicloInterno = []\n",
    "\n",
    "for i in range(0,len(lista) - 1):\n",
    "\n",
    "    for j in range(1,len(lista)):\n",
    "\n",
    "        cicloInterno += [lista[j]]\n",
    "\n",
    "    else: s = \"no hago nada\"\n",
    "\n",
    "cicloInterno"
   ]
  },
  {
   "cell_type": "code",
   "execution_count": 34,
   "metadata": {},
   "outputs": [
    {
     "name": "stdout",
     "output_type": "stream",
     "text": [
      "[40, 40, 40]\n",
      "[30, 30, 30, 50, 50, 50]\n"
     ]
    }
   ],
   "source": [
    "lista = [10,20,30]\n",
    "sumasConsecutivas = []\n",
    "sumaExtremos = []\n",
    "\n",
    "\n",
    "for valor in lista:\n",
    "    for i in range(0,len(lista)):\n",
    "        if lista.index(valor) == lista.index(lista[-1]):\n",
    "\n",
    "            \n",
    "            sumaExtremos += [valor + lista[(len(lista) - (lista.index(valor)+1))]]#Suma de extremos\n",
    "\n",
    "        else:\n",
    "            sumasConsecutivas += [valor + lista[lista.index(valor) + 1]]\n",
    "\n",
    "print(sumaExtremos)\n",
    "print(sumasConsecutivas)"
   ]
  },
  {
   "cell_type": "code",
   "execution_count": 61,
   "metadata": {},
   "outputs": [
    {
     "name": "stdout",
     "output_type": "stream",
     "text": [
      "0\n",
      "0\n",
      "0\n",
      "0\n"
     ]
    },
    {
     "data": {
      "text/plain": [
       "[]"
      ]
     },
     "execution_count": 61,
     "metadata": {},
     "output_type": "execute_result"
    }
   ],
   "source": [
    "\n",
    "\n",
    "lista = [3,3]\n",
    "\n",
    "listaRep = lista\n",
    "listaIndicesGanadores= []\n",
    "objetivo = 6\n",
    "for valor1 in lista:\n",
    "    for valor2 in listaRep:\n",
    "\n",
    "        if(valor1 + valor2) == objetivo:\n",
    "            print(lista.index(valor1))\n",
    "\n",
    "            if lista.index(valor2) is lista.index(valor1):s=\"no hago nada\"\n",
    "            else:\n",
    "                print(valor1 + valor2)\n",
    "                listaIndicesGanadores += [lista.index(valor1)] \n",
    "                listaIndicesGanadores += [lista.index(valor2)]\n",
    "\n",
    "listaIndicesGanadores = list(dict.fromkeys(listaIndicesGanadores))\n",
    "\n",
    "listaIndicesGanadores\n"
   ]
  },
  {
   "cell_type": "code",
   "execution_count": 63,
   "metadata": {},
   "outputs": [
    {
     "data": {
      "text/plain": [
       "[]"
      ]
     },
     "execution_count": 63,
     "metadata": {},
     "output_type": "execute_result"
    }
   ],
   "source": [
    "\n",
    "\n",
    "lista = [3,3]\n",
    "\n",
    "listaRep = lista\n",
    "listaIndicesGanadores= []\n",
    "objetivo = 6\n",
    "\n",
    "for valor1 in range(0,len(lista)):\n",
    "    for valor2 in range(0,len(lista)):\n",
    "\n",
    "        if(lista[valor1] + listaRep[valor2]) == objetivo:\n",
    "\n",
    "            if listaRep.index(listaRep[valor2]) is lista.index(lista[valor1]):s=\"no hago nada\"\n",
    "            else:\n",
    "                \n",
    "                listaIndicesGanadores += [lista.index(lista[valor1])] \n",
    "                listaIndicesGanadores += [lista.index(listaRep[valor2])]\n",
    "\n",
    "listaIndicesGanadores = list(dict.fromkeys(listaIndicesGanadores))\n",
    "\n",
    "listaIndicesGanadores\n"
   ]
  },
  {
   "cell_type": "code",
   "execution_count": 35,
   "metadata": {},
   "outputs": [
    {
     "name": "stdout",
     "output_type": "stream",
     "text": [
      "Sum of all elements in given list:  74\n"
     ]
    }
   ],
   "source": []
  },
  {
   "cell_type": "code",
   "execution_count": null,
   "metadata": {},
   "outputs": [],
   "source": []
  }
 ],
 "metadata": {
  "kernelspec": {
   "display_name": "Python 3.8.5 ('base')",
   "language": "python",
   "name": "python3"
  },
  "language_info": {
   "name": "python",
   "version": "3.8.5"
  },
  "orig_nbformat": 4,
  "vscode": {
   "interpreter": {
    "hash": "5eaefbf052fdaf1b4d3804fd1fe0284820a1e83c2e9c9f028a0aadb5d371017e"
   }
  }
 },
 "nbformat": 4,
 "nbformat_minor": 2
}
