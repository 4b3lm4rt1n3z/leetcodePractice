{
 "cells": [
  {
   "cell_type": "code",
   "execution_count": 17,
   "metadata": {},
   "outputs": [
    {
     "name": "stdout",
     "output_type": "stream",
     "text": [
      "L\n",
      "X\n",
      "C\n"
     ]
    },
    {
     "data": {
      "text/plain": [
       "140"
      ]
     },
     "execution_count": 17,
     "metadata": {},
     "output_type": "execute_result"
    }
   ],
   "source": [
    "romanos = {'I': 1, 'V': 5, 'X': 10,'L': 50, 'C': 100, 'D': 500, 'M': 1000}\n",
    "\n",
    "def roman2int(s):\n",
    "    total = 0\n",
    "    prev = 0\n",
    "    for letra in s[::-1]:\n",
    "        print(letra)\n",
    "        valor = romanos[letra]\n",
    "        total += valor if valor >= prev else -valor\n",
    "        prev = valor\n",
    "\n",
    "    return total\n",
    "\n",
    "roman2int(\"CXL\")"
   ]
  },
  {
   "cell_type": "code",
   "execution_count": null,
   "metadata": {},
   "outputs": [],
   "source": []
  }
 ],
 "metadata": {
  "kernelspec": {
   "display_name": "Python 3.8.5 ('base')",
   "language": "python",
   "name": "python3"
  },
  "language_info": {
   "codemirror_mode": {
    "name": "ipython",
    "version": 3
   },
   "file_extension": ".py",
   "mimetype": "text/x-python",
   "name": "python",
   "nbconvert_exporter": "python",
   "pygments_lexer": "ipython3",
   "version": "3.8.5"
  },
  "orig_nbformat": 4,
  "vscode": {
   "interpreter": {
    "hash": "5eaefbf052fdaf1b4d3804fd1fe0284820a1e83c2e9c9f028a0aadb5d371017e"
   }
  }
 },
 "nbformat": 4,
 "nbformat_minor": 2
}
