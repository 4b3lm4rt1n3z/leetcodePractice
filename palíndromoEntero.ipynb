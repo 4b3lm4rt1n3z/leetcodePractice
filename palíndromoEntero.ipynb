{
 "cells": [
  {
   "cell_type": "code",
   "execution_count": 9,
   "metadata": {},
   "outputs": [
    {
     "data": {
      "text/plain": [
       "True"
      ]
     },
     "execution_count": 9,
     "metadata": {},
     "output_type": "execute_result"
    }
   ],
   "source": [
    "def isPalindrome(x):\n",
    "    \"\"\"\n",
    "    :type x: int\n",
    "    :rtype: bool\n",
    "    \"\"\"\n",
    "\n",
    "    stringX = str(x)\n",
    "    derecho = []\n",
    "    alreves = []\n",
    "\n",
    "    for i in range(0,len(stringX)):\n",
    "        derecho += stringX[i]\n",
    "    for j in range(len(stringX),0,-1):\n",
    "        alreves += stringX[j - 1]\n",
    "\n",
    "    return alreves == derecho\n",
    "\n",
    "isPalindrome(121)"
   ]
  },
  {
   "cell_type": "code",
   "execution_count": 7,
   "metadata": {},
   "outputs": [
    {
     "data": {
      "text/plain": [
       "['1', '2', '1']"
      ]
     },
     "execution_count": 7,
     "metadata": {},
     "output_type": "execute_result"
    }
   ],
   "source": [
    "\n",
    "stringX = str(121)\n",
    "derecho = []\n",
    "alreves = []\n",
    "\n",
    "for i in range(0,len(stringX)):\n",
    "    derecho += stringX[i]\n",
    "\n",
    "for j in range(len(stringX),0,-1):\n",
    "    alreves += stringX[j - 1]\n",
    "    \n",
    "alreves"
   ]
  },
  {
   "cell_type": "code",
   "execution_count": null,
   "metadata": {},
   "outputs": [],
   "source": []
  }
 ],
 "metadata": {
  "kernelspec": {
   "display_name": "Python 3.8.5 ('base')",
   "language": "python",
   "name": "python3"
  },
  "language_info": {
   "codemirror_mode": {
    "name": "ipython",
    "version": 3
   },
   "file_extension": ".py",
   "mimetype": "text/x-python",
   "name": "python",
   "nbconvert_exporter": "python",
   "pygments_lexer": "ipython3",
   "version": "3.8.5"
  },
  "orig_nbformat": 4,
  "vscode": {
   "interpreter": {
    "hash": "5eaefbf052fdaf1b4d3804fd1fe0284820a1e83c2e9c9f028a0aadb5d371017e"
   }
  }
 },
 "nbformat": 4,
 "nbformat_minor": 2
}
